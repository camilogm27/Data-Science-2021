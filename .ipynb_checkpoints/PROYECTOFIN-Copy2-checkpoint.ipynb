    "## <center> $\\color{blue}{\\text{Business understanding}}$ </center>\n"
