{
 "cells": [
  {
   "cell_type": "markdown",
   "metadata": {},
   "source": [
    "# <center> Análisis poblacional del panorama político y perspectivas para las elecciones presidenciales de 2022 en Colombia .</center>\n",
    "$\\color{black}{Juan\\;Camilo\\;García\\;Malagón}$\n",
    "## <center> **Business understanding** </center>\n",
    "\n"
   ]
  },
  {
   "cell_type": "markdown",
   "metadata": {},
   "source": [
    "$Introducción$\n"
   ]
  },
  {
   "cell_type": "markdown",
   "metadata": {},
   "source": [
    "Hoy en día y desde siempre la política ha representado uno de los ambitos más marcados en la socidad, la postura política de un individuo usualmente recae en quien considera representa sus ideales (aunque esto no siempre ocurra);La política se encuentra intrínsecamente relacionada con poder y este resulta ser codiciado por un grupo puntual de individuos de la sociedad,especificamente los partidos politicos y a su vez de todos sus filiales y contribuyentes pues aunque la figura de Presidente represente un sustantivo singular de este dependen muchos de los altos cargos y toma de decisiones futuras para todos los habitantes.\n",
    "\n",
    "Aunque la política en Colombia se ha distinguido por el bipartidismo desde la constitución del 1991 se da via libre al multipartidismo con lo cual los partidos políticos cobran una figura de gran influencia y a su vez los encargados de representarlos y competir con sus homólogos.En la actualidad compañias destacadas como GUARUMO,INVAMER y el CNC,Centro Nacional de Consultoría son los encargados de realizar encuestas y sondeos respecto al panorama político en Colombia proporcionando una visión general a la población respecto a las preferencias y favoritismos políticos de la mayoria ,pero además proporcionando la llave maestra a los partidos y sus canditatos respecto a cual grupo social de sufragantes podria ser crucial ganar en la siguiente contienda electoral.\n",
    "\n",
    "El presente proyecto de Ciencia de datos empleando el proceso estándar entre industrias para la minería de datos (CRISP-DM) pretende estudiar las estadisticas políticas registradas en los ultimos periodos electorales dando un panorama de necesidades y preferencias de los ciudadanos el cual resulta de gran interés y utilidad para partidos politicos,agencias de publicidad,gremios sociales-económicos y otras diferentes esferas sociales."
   ]
  },
  {
   "cell_type": "markdown",
   "metadata": {},
   "source": [
    "$Business\\;Objectives\\;and\\;Success\\;Criteria$"
   ]
  },
  {
   "cell_type": "markdown",
   "metadata": {},
   "source": [
    "**Objetivo general:**"
   ]
  },
  {
   "cell_type": "markdown",
   "metadata": {},
   "source": [
    "Analizar los comportamientos electorales en Colombia en los ultimos años mediante los datos registrados en las anteriores contiendas electorales y las proyecciones actuales para los candidatos presidenciales para el periodo electoral 2022-2026\n"
   ]
  },
  {
   "cell_type": "markdown",
   "metadata": {},
   "source": [
    "**Objetivos especificos:**"
   ]
  },
  {
   "cell_type": "markdown",
   "metadata": {},
   "source": [
    "- Adquirir bases de datos referentes a las elecciones de los periodos 2014-2018 y 2018-2022 de los datos públicos  recopilados por gobierno y registraduría\n",
    "- Investigar los diferentes patrones de distribuciones de probabilidad asociados a las encuestas y resultados hechos durante las anteriores campañas electorales\n",
    "- Proyectar escenarios electorales bien ya sea un posible victoria de un candidato en primera vuelta o una posible contienda en segunda vuelta de dos de ellos"
   ]
  },
  {
   "cell_type": "markdown",
   "metadata": {},
   "source": [
    "**Criterios de éxito del Proyecto**"
   ]
  },
  {
   "cell_type": "markdown",
   "metadata": {},
   "source": [
    "- Concluir en tiempo oportuno el análisis electoral propuesto\n",
    "- Obtener posibles escenarios de los cuales se puedan derivar estrategias de utilidad para los distintos actores interesados en la próxima contienda electoral\n",
    "- Lograr ajustes en los patrones de distribuciones de probabilidad de buena calidad con los datos recopilados\n",
    "- Acertar a los candidatos que potencialmente puedan llegar a una segunda vuelta.\n"
   ]
  },
  {
   "cell_type": "markdown",
   "metadata": {},
   "source": [
    "$Resource\\;Inventory$"
   ]
  },
  {
   "cell_type": "markdown",
   "metadata": {},
   "source": [
    "- Computadora con lenguaje de programación Python 3.8.5 y librerias necesarias.\n",
    "- Datos proporcionados por entidades gubernamentales sobre resultados y sondeos de elecciones, preferencias partidarias y candidaduras anteriores.\n",
    "- Equipo de expertos y analistas en contiendas políticas y asesores de campañas."
   ]
  },
  {
   "cell_type": "markdown",
   "metadata": {},
   "source": [
    "$Requirements, Assumptions, and\\;Constraints$"
   ]
  },
  {
   "cell_type": "markdown",
   "metadata": {},
   "source": [
    "**Requirements**\n",
    "- Los datos son de caracter público para una mayor reproducibilidad.\n",
    "- En principio no existe obligación o requerimiento contractual de publicar o compartir los datos obtenidos de este proyecto sin embargo existe la posibilidad de implementarlo en un tablero de control."
   ]
  },
  {
   "cell_type": "markdown",
   "metadata": {},
   "source": [
    "**Assumptions**\n",
    "- El proyecto responde a una actividad netamente académica sin ánimo de lucro por lo cual no correlaciona ningún factor económico\n",
    "- Los datos pueden presentar un sesgo estadistico debido a los margenes de error y posibles errores humanos en los conteos.\n",
    "- Para los posibles clientes o patrocinadores son mas fructiferos los resultados derivados de este estudio como posibles estrategias de campaña más que el proyecto en si mismo"
   ]
  },
  {
   "cell_type": "markdown",
   "metadata": {},
   "source": [
    "**Constraints**\n",
    "- Los únicos requerimientos legales del tratamiento de las bases de datos usadas es no comprotemer de forma directa o directa alguna entidad gubernamental o en nombre de esta lo cual claramente no se pretende al ser un ejercicio académico"
   ]
  },
  {
   "cell_type": "markdown",
   "metadata": {},
   "source": [
    "$Risks\\;and\\;Contingencies$"
   ]
  },
  {
   "cell_type": "markdown",
   "metadata": {},
   "source": [
    "- Programación: Ante un posible retraso del proyecto se considera la reprogramación del calendario previsto para la mayor realización porcentual del proyecto\n",
    "\n",
    "- Financiero: No aplica\n",
    "\n",
    "- Datos: Existe un margen de error respecto a la calidad de los datos proporcionados pues algunos de estos por su magnitud aún estan sujetos a verifación\n",
    "\n",
    "- Resultados: Existe la posibilidad de escenarios mas leves o con menos información que los planteados inicialmente los cuales no dejan de contener información valiosa para los potenciales clientes a primera estancia.\n"
   ]
  },
  {
   "cell_type": "markdown",
   "metadata": {},
   "source": [
    "$Cost\\;/Benefit\\;Analysis$"
   ]
  },
  {
   "cell_type": "markdown",
   "metadata": {},
   "source": [
    "**Costos**"
   ]
  },
  {
   "cell_type": "markdown",
   "metadata": {},
   "source": [
    "De forma ideal se plantea la necesidad de:\n",
    "- Un consultor conocedor del panorama politico\n",
    "- Un cientifico de datos para el tratamiento y manejo de la BigData\n",
    "- Un equipo de encuestadores para el muestro y verifación de posibles escenarios en determinados grupos poblacionales"
   ]
  },
  {
   "cell_type": "markdown",
   "metadata": {},
   "source": [
    "**Beneficios**"
   ]
  },
  {
   "cell_type": "markdown",
   "metadata": {},
   "source": [
    "- Poder generar un planteamiento óptimo de recursos de campaña \n",
    "- A partir de los resultados plantear ideas ,estrategias y propuestas optimas para ganar sufragantes en las poblaciones espeficas."
   ]
  },
  {
   "cell_type": "markdown",
   "metadata": {},
   "source": [
    "$Determining\\;Data\\;Mining\\;Goals$"
   ]
  },
  {
   "cell_type": "markdown",
   "metadata": {},
   "source": [
    "- Recopilar los datos históricos de periodos anteriores para realizar el data screening de los mismos (Market basket analysis):\n",
    "- Establecer ajustes a funciones de densidad de probabilidad para las diferentes variables asociadas a las bases de datos de encuestas y resultados de campañas electorales anteriores (Profiling)\n",
    "- Proyectar escenarios electorales bien ya sea un posible victoria de un candidato en primera vuelta o una posible contienda en segunda vuelta de dos de ellos (Sequence analysis)"
   ]
  },
  {
   "cell_type": "markdown",
   "metadata": {},
   "source": [
    "**Criterios de éxito del Proyecto**"
   ]
  },
  {
   "cell_type": "markdown",
   "metadata": {},
   "source": [
    "- Obtener posibles escenarios de los cuales se puedan derivar estrategias de utilidad para los distintos actores interesados en la próxima contienda electoral\n",
    "- Lograr ajustes en los patrones de distribuciones de probabilidad con una buena bondad de ajuste medida a través de diferentes test \n",
    "- Establecer una métrica que permita cuantificar la certeza de los resultados con unos umbrales de desviación.\n"
   ]
  },
  {
   "cell_type": "markdown",
   "metadata": {},
   "source": [
    "$Project\\;Plan$\n"
   ]
  },
  {
   "cell_type": "markdown",
   "metadata": {},
   "source": [
    "| Fase | Tiempo | Recursos | Riesgos |\n",
    "|:-:|:-:|:-:|:-:|\n",
    "| Entendimiento del negocio | 1 semana | Todos los análisis | Cambio de presupuesto para  la ejecución del proyecto |\n",
    "| Entendimiento de los datos | 2 semana | Equipos de muestreo y sondeo de  intenciones de voto y consultor  político | Problema en la recopilación de datos, problemas técnicos y sesgos estadísticos |\n",
    "| Preparación de los datos | 2 semanas | Científico y analista de datos | Problema en los datos,  problemas técnicos |\n",
    "| Evaluación | 2 semana | Consultor político y científico de   datos | Cambios de presupuesto,  inhabilidad de publicación  de proyecciones del modelo |"
   ]
  },
  {
   "cell_type": "code",
   "execution_count": null,
   "metadata": {},
   "outputs": [],
   "source": []
  }
 ],
 "metadata": {
  "kernelspec": {
   "display_name": "Python 3",
   "language": "python",
   "name": "python3"
  },
  "language_info": {
   "codemirror_mode": {
    "name": "ipython",
    "version": 3
   },
   "file_extension": ".py",
   "mimetype": "text/x-python",
   "name": "python",
   "nbconvert_exporter": "python",
   "pygments_lexer": "ipython3",
   "version": "3.8.5"
  }
 },
 "nbformat": 4,
 "nbformat_minor": 4
}
