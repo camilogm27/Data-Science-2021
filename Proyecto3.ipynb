{
 "cells": [
  {
   "cell_type": "markdown",
   "metadata": {},
   "source": [
    "# <center> Análisis poblacional del panorama político y perspectivas para las elecciones presidenciales de 2022 en Colombia .</center>\n",
    "$\\color{black}{Juan\\;Camilo\\;García\\;Malagón}$\n",
    "## <center> **Business understanding** </center>\n",
    "\n"
   ]
  },
  {
   "cell_type": "markdown",
   "metadata": {},
   "source": [
    "$Introducción$\n"
   ]
  },
  {
   "cell_type": "markdown",
   "metadata": {},
   "source": [
    "Hoy en día y desde siempre la política ha representado uno de los ambitos más marcados en la socidad, la postura política de un individuo usualmente recae en quien considera representa sus ideales (aunque esto no siempre ocurra);La política se encuentra intrínsecamente relacionada con poder y este resulta ser codiciado por un grupo puntual de individuos de la sociedad,especificamente los partidos politicos y a su vez de todos sus filiales y contribuyentes pues aunque la figura de Presidente represente un sustantivo singular de este dependen muchos de los altos cargos y toma de decisiones futuras para todos los habitantes.\n",
    "\n",
    "Aunque la política en Colombia se ha distinguido por el bipartidismo desde la constitución del 1991 se da via libre al multipartidismo con lo cual los partidos políticos cobran una figura de gran influencia y a su vez los encargados de representarlos y competir con sus homólogos.En la actualidad compañias destacadas como GUARUMO,INVAMER y el CNC,Centro Nacional de Consultoría son los encargados de realizar encuestas y sondeos respecto al panorama político en Colombia proporcionando una visión general a la población respecto a las preferencias y favoritismos políticos de la mayoria ,pero además proporcionando la llave maestra a los partidos y sus canditatos respecto a cual grupo social de sufragantes podria ser crucial ganar en la siguiente contienda electoral.\n",
    "\n",
    "El presente proyecto de Ciencia de datos empleando el proceso estándar entre industrias para la minería de datos (CRISP-DM) pretende estudiar las estadisticas políticas registradas en los ultimos periodos electorales dando un panorama de necesidades y preferencias de los ciudadanos el cual resulta de gran interés y utilidad para partidos politicos,agencias de publicidad,gremios sociales-económicos y otras diferentes esferas sociales."
   ]
  },
  {
   "cell_type": "markdown",
   "metadata": {},
   "source": [
    "$Business\\;Objectives\\;and\\;Success\\;Criteria$"
   ]
  },
  {
   "cell_type": "markdown",
   "metadata": {},
   "source": [
    "**Objetivo general:**"
   ]
  },
  {
   "cell_type": "markdown",
   "metadata": {},
   "source": [
    "Analizar los comportamientos electorales en Colombia en los ultimos años mediante los datos registrados en las anteriores contiendas electorales y las proyecciones actuales para los candidatos presidenciales para el periodo electoral 2022-2026\n"
   ]
  },
  {
   "cell_type": "markdown",
   "metadata": {},
   "source": [
    "**Objetivos especificos:**"
   ]
  },
  {
   "cell_type": "markdown",
   "metadata": {},
   "source": [
    "- Adquirir bases de datos referentes a las elecciones de los periodos 2014-2018 y 2018-2022 de los datos públicos  recopilados por gobierno y registraduría\n",
    "- Investigar los diferentes patrones de distribuciones de probabilidad asociados a las encuestas y resultados hechos durante las anteriores campañas electorales\n",
    "- Proyectar escenarios electorales bien ya sea un posible victoria de un candidato en primera vuelta o una posible contienda en segunda vuelta de dos de ellos"
   ]
  },
  {
   "cell_type": "markdown",
   "metadata": {},
   "source": [
    "**Criterios de éxito del Proyecto**"
   ]
  },
  {
   "cell_type": "markdown",
   "metadata": {},
   "source": [
    "- Concluir en tiempo oportuno el análisis electoral propuesto\n",
    "- Obtener posibles escenarios de los cuales se puedan derivar estrategias de utilidad para los distintos actores interesados en la próxima contienda electoral\n",
    "- Lograr ajustes en los patrones de distribuciones de probabilidad de buena calidad con los datos recopilados\n",
    "- Acertar a los candidatos que potencialmente puedan llegar a una segunda vuelta.\n"
   ]
  },
  {
   "cell_type": "markdown",
   "metadata": {},
   "source": [
    "$Resource\\;Inventory$"
   ]
  },
  {
   "cell_type": "markdown",
   "metadata": {},
   "source": [
    "- Computadora con lenguaje de programación Python 3.8.5 y librerias necesarias.\n",
    "- Datos proporcionados por entidades gubernamentales sobre resultados y sondeos de elecciones, preferencias partidarias y candidaduras anteriores.\n",
    "- Equipo de expertos y analistas en contiendas políticas y asesores de campañas."
   ]
  },
  {
   "cell_type": "markdown",
   "metadata": {},
   "source": [
    "$Requirements, Assumptions, and\\;Constraints$"
   ]
  },
  {
   "cell_type": "markdown",
   "metadata": {},
   "source": [
    "**Requirements**\n",
    "- Los datos son de caracter público para una mayor reproducibilidad.\n",
    "- En principio no existe obligación o requerimiento contractual de publicar o compartir los datos obtenidos de este proyecto sin embargo existe la posibilidad de implementarlo en un tablero de control."
   ]
  },
  {
   "cell_type": "markdown",
   "metadata": {},
   "source": [
    "**Assumptions**\n",
    "- El proyecto responde a una actividad netamente académica sin ánimo de lucro por lo cual no correlaciona ningún factor económico\n",
    "- Los datos pueden presentar un sesgo estadistico debido a los margenes de error y posibles errores humanos en los conteos.\n",
    "- Para los posibles clientes o patrocinadores son mas fructiferos los resultados derivados de este estudio como posibles estrategias de campaña más que el proyecto en si mismo"
   ]
  },
  {
   "cell_type": "markdown",
   "metadata": {},
   "source": [
    "**Constraints**\n",
    "- Los únicos requerimientos legales del tratamiento de las bases de datos usadas es no comprotemer de forma directa o directa alguna entidad gubernamental o en nombre de esta lo cual claramente no se pretende al ser un ejercicio académico"
   ]
  },
  {
   "cell_type": "markdown",
   "metadata": {},
   "source": [
    "$Risks\\;and\\;Contingencies$"
   ]
  },
  {
   "cell_type": "markdown",
   "metadata": {},
   "source": [
    "- Programación: Ante un posible retraso del proyecto se considera la reprogramación del calendario previsto para la mayor realización porcentual del proyecto\n",
    "\n",
    "- Financiero: No aplica\n",
    "\n",
    "- Datos: Existe un margen de error respecto a la calidad de los datos proporcionados pues algunos de estos por su magnitud aún estan sujetos a verifación\n",
    "\n",
    "- Resultados: Existe la posibilidad de escenarios mas leves o con menos información que los planteados inicialmente los cuales no dejan de contener información valiosa para los potenciales clientes a primera estancia.\n"
   ]
  },
  {
   "cell_type": "markdown",
   "metadata": {},
   "source": [
    "$Cost\\;/Benefit\\;Analysis$"
   ]
  },
  {
   "cell_type": "markdown",
   "metadata": {},
   "source": [
    "**Costos**"
   ]
  },
  {
   "cell_type": "markdown",
   "metadata": {},
   "source": [
    "De forma ideal se plantea la necesidad de:\n",
    "- Un consultor conocedor del panorama politico\n",
    "- Un cientifico de datos para el tratamiento y manejo de la BigData\n",
    "- Un equipo de encuestadores para el muestro y verifación de posibles escenarios en determinados grupos poblacionales"
   ]
  },
  {
   "cell_type": "markdown",
   "metadata": {},
   "source": [
    "**Beneficios**"
   ]
  },
  {
   "cell_type": "markdown",
   "metadata": {},
   "source": [
    "- Poder generar un planteamiento óptimo de recursos de campaña \n",
    "- A partir de los resultados plantear ideas ,estrategias y propuestas optimas para ganar sufragantes en las poblaciones espeficas."
   ]
  },
  {
   "cell_type": "markdown",
   "metadata": {},
   "source": [
    "$Determining\\;Data\\;Mining\\;Goals$"
   ]
  },
  {
   "cell_type": "markdown",
   "metadata": {},
   "source": [
    "- Recopilar los datos históricos de periodos anteriores para realizar el data screening de los mismos (Market basket analysis):\n",
    "- Establecer ajustes a funciones de densidad de probabilidad para las diferentes variables asociadas a las bases de datos de encuestas y resultados de campañas electorales anteriores (Profiling)\n",
    "- Proyectar escenarios electorales bien ya sea un posible victoria de un candidato en primera vuelta o una posible contienda en segunda vuelta de dos de ellos (Sequence analysis)"
   ]
  },
  {
   "cell_type": "markdown",
   "metadata": {},
   "source": [
    "**Criterios de éxito del Proyecto**"
   ]
  },
  {
   "cell_type": "markdown",
   "metadata": {},
   "source": [
    "- Obtener posibles escenarios de los cuales se puedan derivar estrategias de utilidad para los distintos actores interesados en la próxima contienda electoral\n",
    "- Lograr ajustes en los patrones de distribuciones de probabilidad con una buena bondad de ajuste medida a través de diferentes test \n",
    "- Establecer una métrica que permita cuantificar la certeza de los resultados con unos umbrales de desviación.\n"
   ]
  },
  {
   "cell_type": "markdown",
   "metadata": {},
   "source": [
    "$Project\\;Plan$\n"
   ]
  },
  {
   "cell_type": "markdown",
   "metadata": {},
   "source": [
    "| Fase | Tiempo | Recursos | Riesgos |\n",
    "|:-:|:-:|:-:|:-:|\n",
    "| Entendimiento del negocio | 1 semana | Todos los análisis | Cambio de presupuesto para  la ejecución del proyecto |\n",
    "| Entendimiento de los datos | 2 semana | Equipos de muestreo y sondeo de  intenciones de voto y consultor  político | Problema en la recopilación de datos, problemas técnicos y sesgos estadísticos |\n",
    "| Preparación de los datos | 2 semanas | Científico y analista de datos | Problema en los datos,  problemas técnicos |\n",
    "| Evaluación | 2 semana | Consultor político y científico de   datos | Cambios de presupuesto,  inhabilidad de publicación  de proyecciones del modelo |"
   ]
  },
  {
   "cell_type": "markdown",
   "metadata": {},
   "source": [
    "## <center> **Data understanding** </center>"
   ]
  },
  {
   "cell_type": "markdown",
   "metadata": {},
   "source": [
    "**Data Quantity**\n",
    "\n",
    "* *Formato*: Data estructurada en archivo xlsx\n",
    "* *Fuente* : Registraduría Nacional del Estado Civil\n",
    "* *Obtención* : Escrutinio de mesas de votantes\n",
    "    * Primera Vuelta: https://www.registraduria.gov.co/IMG/xlsx/PRE_1ERA_VUELTA_MMV_2014.xlsx\n",
    "        * 704176 Filas x 16 Columnas\n",
    "\n",
    "    * Segunda Vuelta: https://www.registraduria.gov.co/IMG/xlsx/PRE_2DA_VUELTA_MMV_2014.xlsx\n",
    "\n",
    "        * 456253 Filas x 14 Columnas"
   ]
  },
  {
   "cell_type": "code",
   "execution_count": 28,
   "metadata": {},
   "outputs": [],
   "source": [
    "import pandas as pd\n",
    "import numpy as np"
   ]
  },
  {
   "cell_type": "code",
   "execution_count": 1,
   "metadata": {},
   "outputs": [],
   "source": [
    "URL='DATOS_01_14.xlsx'\n",
    "Datos_01_2014=pd.read_excel(URL)"
   ]
  },
  {
   "cell_type": "code",
   "execution_count": 10,
   "metadata": {},
   "outputs": [
    {
     "data": {
      "text/plain": [
       "Index(['DIVIPOL_MESA', 'DIVIPOL', 'COD_DEP', 'DEPARTAMENTO', 'COD_MUN',\n",
       "       'MUNICIPIO', 'ZONA', 'PUESTO', 'MESA', 'JAL', 'BOLETIN', 'COD_PARTIDO',\n",
       "       'NOMB_PARTIDO', 'COD_CANDIDATO', 'NOMB_CANDIDATO', 'VOTOS'],\n",
       "      dtype='object')"
      ]
     },
     "execution_count": 10,
     "metadata": {},
     "output_type": "execute_result"
    }
   ],
   "source": [
    "Datos_01_2014.columns"
   ]
  },
  {
   "cell_type": "code",
   "execution_count": 32,
   "metadata": {},
   "outputs": [
    {
     "data": {
      "text/html": [
       "<div>\n",
       "<style scoped>\n",
       "    .dataframe tbody tr th:only-of-type {\n",
       "        vertical-align: middle;\n",
       "    }\n",
       "\n",
       "    .dataframe tbody tr th {\n",
       "        vertical-align: top;\n",
       "    }\n",
       "\n",
       "    .dataframe thead th {\n",
       "        text-align: right;\n",
       "    }\n",
       "</style>\n",
       "<table border=\"1\" class=\"dataframe\">\n",
       "  <thead>\n",
       "    <tr style=\"text-align: right;\">\n",
       "      <th></th>\n",
       "      <th>DIVIPOL_MESA</th>\n",
       "      <th>DIVIPOL</th>\n",
       "      <th>COD_DEP</th>\n",
       "      <th>DEPARTAMENTO</th>\n",
       "      <th>COD_MUN</th>\n",
       "      <th>MUNICIPIO</th>\n",
       "      <th>ZONA</th>\n",
       "      <th>PUESTO</th>\n",
       "      <th>MESA</th>\n",
       "      <th>JAL</th>\n",
       "      <th>BOLETIN</th>\n",
       "      <th>COD_PARTIDO</th>\n",
       "      <th>NOMB_PARTIDO</th>\n",
       "      <th>COD_CANDIDATO</th>\n",
       "      <th>NOMB_CANDIDATO</th>\n",
       "      <th>VOTOS</th>\n",
       "    </tr>\n",
       "  </thead>\n",
       "  <tbody>\n",
       "    <tr>\n",
       "      <th>0</th>\n",
       "      <td>10010101-1</td>\n",
       "      <td>1001</td>\n",
       "      <td>1</td>\n",
       "      <td>ANTIOQUIA</td>\n",
       "      <td>1</td>\n",
       "      <td>MEDELLIN</td>\n",
       "      <td>1</td>\n",
       "      <td>1</td>\n",
       "      <td>1</td>\n",
       "      <td>0</td>\n",
       "      <td>9999</td>\n",
       "      <td>1</td>\n",
       "      <td>POLO DEMOCRÁTICO ALTERNATIVO PDA UNIÓN PATRÍOT...</td>\n",
       "      <td>1</td>\n",
       "      <td>CLARA LÓPEZ</td>\n",
       "      <td>9</td>\n",
       "    </tr>\n",
       "    <tr>\n",
       "      <th>1</th>\n",
       "      <td>10010101-1</td>\n",
       "      <td>1001</td>\n",
       "      <td>1</td>\n",
       "      <td>ANTIOQUIA</td>\n",
       "      <td>1</td>\n",
       "      <td>MEDELLIN</td>\n",
       "      <td>1</td>\n",
       "      <td>1</td>\n",
       "      <td>1</td>\n",
       "      <td>0</td>\n",
       "      <td>9999</td>\n",
       "      <td>2</td>\n",
       "      <td>PARTIDO CONSERVADOR COLOMBIANO</td>\n",
       "      <td>2</td>\n",
       "      <td>MARTHA LUCÍA RAMÍREZ</td>\n",
       "      <td>15</td>\n",
       "    </tr>\n",
       "    <tr>\n",
       "      <th>2</th>\n",
       "      <td>10010101-1</td>\n",
       "      <td>1001</td>\n",
       "      <td>1</td>\n",
       "      <td>ANTIOQUIA</td>\n",
       "      <td>1</td>\n",
       "      <td>MEDELLIN</td>\n",
       "      <td>1</td>\n",
       "      <td>1</td>\n",
       "      <td>1</td>\n",
       "      <td>0</td>\n",
       "      <td>9999</td>\n",
       "      <td>3</td>\n",
       "      <td>UNIDAD NACIONAL</td>\n",
       "      <td>3</td>\n",
       "      <td>JUAN MANUEL SANTOS CALDERÓN</td>\n",
       "      <td>37</td>\n",
       "    </tr>\n",
       "    <tr>\n",
       "      <th>3</th>\n",
       "      <td>10010101-1</td>\n",
       "      <td>1001</td>\n",
       "      <td>1</td>\n",
       "      <td>ANTIOQUIA</td>\n",
       "      <td>1</td>\n",
       "      <td>MEDELLIN</td>\n",
       "      <td>1</td>\n",
       "      <td>1</td>\n",
       "      <td>1</td>\n",
       "      <td>0</td>\n",
       "      <td>9999</td>\n",
       "      <td>4</td>\n",
       "      <td>PARTIDO ALIANZA VERDE</td>\n",
       "      <td>4</td>\n",
       "      <td>ENRIQUE PEÑALOSA</td>\n",
       "      <td>2</td>\n",
       "    </tr>\n",
       "    <tr>\n",
       "      <th>4</th>\n",
       "      <td>10010101-1</td>\n",
       "      <td>1001</td>\n",
       "      <td>1</td>\n",
       "      <td>ANTIOQUIA</td>\n",
       "      <td>1</td>\n",
       "      <td>MEDELLIN</td>\n",
       "      <td>1</td>\n",
       "      <td>1</td>\n",
       "      <td>1</td>\n",
       "      <td>0</td>\n",
       "      <td>9999</td>\n",
       "      <td>5</td>\n",
       "      <td>CENTRO DEMOCRÁTICO MANO FIRME CORAZÓN GRANDE</td>\n",
       "      <td>5</td>\n",
       "      <td>OSCAR IVÁN ZULUAGA</td>\n",
       "      <td>42</td>\n",
       "    </tr>\n",
       "    <tr>\n",
       "      <th>...</th>\n",
       "      <td>...</td>\n",
       "      <td>...</td>\n",
       "      <td>...</td>\n",
       "      <td>...</td>\n",
       "      <td>...</td>\n",
       "      <td>...</td>\n",
       "      <td>...</td>\n",
       "      <td>...</td>\n",
       "      <td>...</td>\n",
       "      <td>...</td>\n",
       "      <td>...</td>\n",
       "      <td>...</td>\n",
       "      <td>...</td>\n",
       "      <td>...</td>\n",
       "      <td>...</td>\n",
       "      <td>...</td>\n",
       "    </tr>\n",
       "    <tr>\n",
       "      <th>704171</th>\n",
       "      <td>888157586-1</td>\n",
       "      <td>88815</td>\n",
       "      <td>88</td>\n",
       "      <td>CONSULADOS</td>\n",
       "      <td>815</td>\n",
       "      <td>VENEZUELA</td>\n",
       "      <td>75</td>\n",
       "      <td>86</td>\n",
       "      <td>1</td>\n",
       "      <td>0</td>\n",
       "      <td>9999</td>\n",
       "      <td>4</td>\n",
       "      <td>PARTIDO ALIANZA VERDE</td>\n",
       "      <td>4</td>\n",
       "      <td>ENRIQUE PEÑALOSA</td>\n",
       "      <td>8</td>\n",
       "    </tr>\n",
       "    <tr>\n",
       "      <th>704172</th>\n",
       "      <td>888157586-1</td>\n",
       "      <td>88815</td>\n",
       "      <td>88</td>\n",
       "      <td>CONSULADOS</td>\n",
       "      <td>815</td>\n",
       "      <td>VENEZUELA</td>\n",
       "      <td>75</td>\n",
       "      <td>86</td>\n",
       "      <td>1</td>\n",
       "      <td>0</td>\n",
       "      <td>9999</td>\n",
       "      <td>5</td>\n",
       "      <td>CENTRO DEMOCRÁTICO MANO FIRME CORAZÓN GRANDE</td>\n",
       "      <td>5</td>\n",
       "      <td>OSCAR IVÁN ZULUAGA</td>\n",
       "      <td>105</td>\n",
       "    </tr>\n",
       "    <tr>\n",
       "      <th>704173</th>\n",
       "      <td>888157586-1</td>\n",
       "      <td>88815</td>\n",
       "      <td>88</td>\n",
       "      <td>CONSULADOS</td>\n",
       "      <td>815</td>\n",
       "      <td>VENEZUELA</td>\n",
       "      <td>75</td>\n",
       "      <td>86</td>\n",
       "      <td>1</td>\n",
       "      <td>0</td>\n",
       "      <td>9999</td>\n",
       "      <td>0</td>\n",
       "      <td>NaN</td>\n",
       "      <td>996</td>\n",
       "      <td>VOTOS EN BLANCO</td>\n",
       "      <td>1</td>\n",
       "    </tr>\n",
       "    <tr>\n",
       "      <th>704174</th>\n",
       "      <td>888157586-1</td>\n",
       "      <td>88815</td>\n",
       "      <td>88</td>\n",
       "      <td>CONSULADOS</td>\n",
       "      <td>815</td>\n",
       "      <td>VENEZUELA</td>\n",
       "      <td>75</td>\n",
       "      <td>86</td>\n",
       "      <td>1</td>\n",
       "      <td>0</td>\n",
       "      <td>9999</td>\n",
       "      <td>0</td>\n",
       "      <td>NaN</td>\n",
       "      <td>997</td>\n",
       "      <td>VOTOS NULOS</td>\n",
       "      <td>1</td>\n",
       "    </tr>\n",
       "    <tr>\n",
       "      <th>704175</th>\n",
       "      <td>888157586-1</td>\n",
       "      <td>88815</td>\n",
       "      <td>88</td>\n",
       "      <td>CONSULADOS</td>\n",
       "      <td>815</td>\n",
       "      <td>VENEZUELA</td>\n",
       "      <td>75</td>\n",
       "      <td>86</td>\n",
       "      <td>1</td>\n",
       "      <td>0</td>\n",
       "      <td>9999</td>\n",
       "      <td>0</td>\n",
       "      <td>NaN</td>\n",
       "      <td>998</td>\n",
       "      <td>VOTOS NO MARCADOS</td>\n",
       "      <td>0</td>\n",
       "    </tr>\n",
       "  </tbody>\n",
       "</table>\n",
       "<p>704176 rows × 16 columns</p>\n",
       "</div>"
      ],
      "text/plain": [
       "       DIVIPOL_MESA  DIVIPOL  COD_DEP DEPARTAMENTO  COD_MUN  MUNICIPIO  ZONA  \\\n",
       "0        10010101-1     1001        1    ANTIOQUIA        1   MEDELLIN     1   \n",
       "1        10010101-1     1001        1    ANTIOQUIA        1   MEDELLIN     1   \n",
       "2        10010101-1     1001        1    ANTIOQUIA        1   MEDELLIN     1   \n",
       "3        10010101-1     1001        1    ANTIOQUIA        1   MEDELLIN     1   \n",
       "4        10010101-1     1001        1    ANTIOQUIA        1   MEDELLIN     1   \n",
       "...             ...      ...      ...          ...      ...        ...   ...   \n",
       "704171  888157586-1    88815       88   CONSULADOS      815  VENEZUELA    75   \n",
       "704172  888157586-1    88815       88   CONSULADOS      815  VENEZUELA    75   \n",
       "704173  888157586-1    88815       88   CONSULADOS      815  VENEZUELA    75   \n",
       "704174  888157586-1    88815       88   CONSULADOS      815  VENEZUELA    75   \n",
       "704175  888157586-1    88815       88   CONSULADOS      815  VENEZUELA    75   \n",
       "\n",
       "       PUESTO  MESA  JAL  BOLETIN  COD_PARTIDO  \\\n",
       "0           1     1    0     9999            1   \n",
       "1           1     1    0     9999            2   \n",
       "2           1     1    0     9999            3   \n",
       "3           1     1    0     9999            4   \n",
       "4           1     1    0     9999            5   \n",
       "...       ...   ...  ...      ...          ...   \n",
       "704171     86     1    0     9999            4   \n",
       "704172     86     1    0     9999            5   \n",
       "704173     86     1    0     9999            0   \n",
       "704174     86     1    0     9999            0   \n",
       "704175     86     1    0     9999            0   \n",
       "\n",
       "                                             NOMB_PARTIDO  COD_CANDIDATO  \\\n",
       "0       POLO DEMOCRÁTICO ALTERNATIVO PDA UNIÓN PATRÍOT...              1   \n",
       "1                          PARTIDO CONSERVADOR COLOMBIANO              2   \n",
       "2                                         UNIDAD NACIONAL              3   \n",
       "3                                   PARTIDO ALIANZA VERDE              4   \n",
       "4            CENTRO DEMOCRÁTICO MANO FIRME CORAZÓN GRANDE              5   \n",
       "...                                                   ...            ...   \n",
       "704171                              PARTIDO ALIANZA VERDE              4   \n",
       "704172       CENTRO DEMOCRÁTICO MANO FIRME CORAZÓN GRANDE              5   \n",
       "704173                                                NaN            996   \n",
       "704174                                                NaN            997   \n",
       "704175                                                NaN            998   \n",
       "\n",
       "                     NOMB_CANDIDATO  VOTOS  \n",
       "0                       CLARA LÓPEZ      9  \n",
       "1              MARTHA LUCÍA RAMÍREZ     15  \n",
       "2       JUAN MANUEL SANTOS CALDERÓN     37  \n",
       "3                  ENRIQUE PEÑALOSA      2  \n",
       "4                OSCAR IVÁN ZULUAGA     42  \n",
       "...                             ...    ...  \n",
       "704171             ENRIQUE PEÑALOSA      8  \n",
       "704172           OSCAR IVÁN ZULUAGA    105  \n",
       "704173              VOTOS EN BLANCO      1  \n",
       "704174                  VOTOS NULOS      1  \n",
       "704175            VOTOS NO MARCADOS      0  \n",
       "\n",
       "[704176 rows x 16 columns]"
      ]
     },
     "execution_count": 32,
     "metadata": {},
     "output_type": "execute_result"
    }
   ],
   "source": [
    "Datos_01_2014"
   ]
  },
  {
   "cell_type": "code",
   "execution_count": 2,
   "metadata": {},
   "outputs": [],
   "source": [
    "URL='DATOS_02_14.xlsx'\n",
    "Datos_02_2014=pd.read_excel(URL)"
   ]
  },
  {
   "cell_type": "code",
   "execution_count": 3,
   "metadata": {},
   "outputs": [
    {
     "data": {
      "text/plain": [
       "Index(['COD_DEP', 'DEPARTAMENTO', 'COD_MUN', 'MUNICIPIO', 'ZONA', 'PUESTO',\n",
       "       'MESA', 'JAL', 'BOLETIN', 'COD_PARTIDO', 'NOMBRE_PARTIDO',\n",
       "       'COD_CANDIDATO', 'NOMBRE_CANDIDATO', 'VOTOS'],\n",
       "      dtype='object')"
      ]
     },
     "execution_count": 3,
     "metadata": {},
     "output_type": "execute_result"
    }
   ],
   "source": [
    "Datos_02_2014.columns"
   ]
  },
  {
   "cell_type": "code",
   "execution_count": 33,
   "metadata": {},
   "outputs": [
    {
     "data": {
      "text/html": [
       "<div>\n",
       "<style scoped>\n",
       "    .dataframe tbody tr th:only-of-type {\n",
       "        vertical-align: middle;\n",
       "    }\n",
       "\n",
       "    .dataframe tbody tr th {\n",
       "        vertical-align: top;\n",
       "    }\n",
       "\n",
       "    .dataframe thead th {\n",
       "        text-align: right;\n",
       "    }\n",
       "</style>\n",
       "<table border=\"1\" class=\"dataframe\">\n",
       "  <thead>\n",
       "    <tr style=\"text-align: right;\">\n",
       "      <th></th>\n",
       "      <th>COD_DEP</th>\n",
       "      <th>DEPARTAMENTO</th>\n",
       "      <th>COD_MUN</th>\n",
       "      <th>MUNICIPIO</th>\n",
       "      <th>ZONA</th>\n",
       "      <th>PUESTO</th>\n",
       "      <th>MESA</th>\n",
       "      <th>JAL</th>\n",
       "      <th>BOLETIN</th>\n",
       "      <th>COD_PARTIDO</th>\n",
       "      <th>NOMBRE_PARTIDO</th>\n",
       "      <th>COD_CANDIDATO</th>\n",
       "      <th>NOMBRE_CANDIDATO</th>\n",
       "      <th>VOTOS</th>\n",
       "    </tr>\n",
       "  </thead>\n",
       "  <tbody>\n",
       "    <tr>\n",
       "      <th>0</th>\n",
       "      <td>1</td>\n",
       "      <td>ANTIOQUIA</td>\n",
       "      <td>1</td>\n",
       "      <td>MEDELLIN</td>\n",
       "      <td>1</td>\n",
       "      <td>1</td>\n",
       "      <td>1</td>\n",
       "      <td>0</td>\n",
       "      <td>9999</td>\n",
       "      <td>1</td>\n",
       "      <td>UNIDAD NACIONAL</td>\n",
       "      <td>1</td>\n",
       "      <td>JUAN MANUEL SANTOS CALDERÓN</td>\n",
       "      <td>64</td>\n",
       "    </tr>\n",
       "    <tr>\n",
       "      <th>1</th>\n",
       "      <td>1</td>\n",
       "      <td>ANTIOQUIA</td>\n",
       "      <td>1</td>\n",
       "      <td>MEDELLIN</td>\n",
       "      <td>1</td>\n",
       "      <td>1</td>\n",
       "      <td>1</td>\n",
       "      <td>0</td>\n",
       "      <td>9999</td>\n",
       "      <td>2</td>\n",
       "      <td>CENTRO DEMOCRÁTICO MANO FIRME CORAZÓN GRANDE</td>\n",
       "      <td>2</td>\n",
       "      <td>ÓSCAR IVÁN ZULUAGA</td>\n",
       "      <td>79</td>\n",
       "    </tr>\n",
       "    <tr>\n",
       "      <th>2</th>\n",
       "      <td>1</td>\n",
       "      <td>ANTIOQUIA</td>\n",
       "      <td>1</td>\n",
       "      <td>MEDELLIN</td>\n",
       "      <td>1</td>\n",
       "      <td>1</td>\n",
       "      <td>1</td>\n",
       "      <td>0</td>\n",
       "      <td>9999</td>\n",
       "      <td>0</td>\n",
       "      <td>NaN</td>\n",
       "      <td>996</td>\n",
       "      <td>VOTOS EN BLANCO</td>\n",
       "      <td>4</td>\n",
       "    </tr>\n",
       "    <tr>\n",
       "      <th>3</th>\n",
       "      <td>1</td>\n",
       "      <td>ANTIOQUIA</td>\n",
       "      <td>1</td>\n",
       "      <td>MEDELLIN</td>\n",
       "      <td>1</td>\n",
       "      <td>1</td>\n",
       "      <td>1</td>\n",
       "      <td>0</td>\n",
       "      <td>9999</td>\n",
       "      <td>0</td>\n",
       "      <td>NaN</td>\n",
       "      <td>997</td>\n",
       "      <td>VOTOS NULOS</td>\n",
       "      <td>3</td>\n",
       "    </tr>\n",
       "    <tr>\n",
       "      <th>4</th>\n",
       "      <td>1</td>\n",
       "      <td>ANTIOQUIA</td>\n",
       "      <td>1</td>\n",
       "      <td>MEDELLIN</td>\n",
       "      <td>1</td>\n",
       "      <td>1</td>\n",
       "      <td>1</td>\n",
       "      <td>0</td>\n",
       "      <td>9999</td>\n",
       "      <td>0</td>\n",
       "      <td>NaN</td>\n",
       "      <td>998</td>\n",
       "      <td>VOTOS NO MARCADOS</td>\n",
       "      <td>3</td>\n",
       "    </tr>\n",
       "    <tr>\n",
       "      <th>...</th>\n",
       "      <td>...</td>\n",
       "      <td>...</td>\n",
       "      <td>...</td>\n",
       "      <td>...</td>\n",
       "      <td>...</td>\n",
       "      <td>...</td>\n",
       "      <td>...</td>\n",
       "      <td>...</td>\n",
       "      <td>...</td>\n",
       "      <td>...</td>\n",
       "      <td>...</td>\n",
       "      <td>...</td>\n",
       "      <td>...</td>\n",
       "      <td>...</td>\n",
       "    </tr>\n",
       "    <tr>\n",
       "      <th>446252</th>\n",
       "      <td>88</td>\n",
       "      <td>CONSULADOS</td>\n",
       "      <td>815</td>\n",
       "      <td>VENEZUELA</td>\n",
       "      <td>75</td>\n",
       "      <td>86</td>\n",
       "      <td>1</td>\n",
       "      <td>0</td>\n",
       "      <td>9999</td>\n",
       "      <td>1</td>\n",
       "      <td>UNIDAD NACIONAL</td>\n",
       "      <td>1</td>\n",
       "      <td>JUAN MANUEL SANTOS CALDERÓN</td>\n",
       "      <td>181</td>\n",
       "    </tr>\n",
       "    <tr>\n",
       "      <th>446253</th>\n",
       "      <td>88</td>\n",
       "      <td>CONSULADOS</td>\n",
       "      <td>815</td>\n",
       "      <td>VENEZUELA</td>\n",
       "      <td>75</td>\n",
       "      <td>86</td>\n",
       "      <td>1</td>\n",
       "      <td>0</td>\n",
       "      <td>9999</td>\n",
       "      <td>2</td>\n",
       "      <td>CENTRO DEMOCRÁTICO MANO FIRME CORAZÓN GRANDE</td>\n",
       "      <td>2</td>\n",
       "      <td>ÓSCAR IVÁN ZULUAGA</td>\n",
       "      <td>164</td>\n",
       "    </tr>\n",
       "    <tr>\n",
       "      <th>446254</th>\n",
       "      <td>88</td>\n",
       "      <td>CONSULADOS</td>\n",
       "      <td>815</td>\n",
       "      <td>VENEZUELA</td>\n",
       "      <td>75</td>\n",
       "      <td>86</td>\n",
       "      <td>1</td>\n",
       "      <td>0</td>\n",
       "      <td>9999</td>\n",
       "      <td>0</td>\n",
       "      <td>NaN</td>\n",
       "      <td>996</td>\n",
       "      <td>VOTOS EN BLANCO</td>\n",
       "      <td>1</td>\n",
       "    </tr>\n",
       "    <tr>\n",
       "      <th>446255</th>\n",
       "      <td>88</td>\n",
       "      <td>CONSULADOS</td>\n",
       "      <td>815</td>\n",
       "      <td>VENEZUELA</td>\n",
       "      <td>75</td>\n",
       "      <td>86</td>\n",
       "      <td>1</td>\n",
       "      <td>0</td>\n",
       "      <td>9999</td>\n",
       "      <td>0</td>\n",
       "      <td>NaN</td>\n",
       "      <td>997</td>\n",
       "      <td>VOTOS NULOS</td>\n",
       "      <td>1</td>\n",
       "    </tr>\n",
       "    <tr>\n",
       "      <th>446256</th>\n",
       "      <td>88</td>\n",
       "      <td>CONSULADOS</td>\n",
       "      <td>815</td>\n",
       "      <td>VENEZUELA</td>\n",
       "      <td>75</td>\n",
       "      <td>86</td>\n",
       "      <td>1</td>\n",
       "      <td>0</td>\n",
       "      <td>9999</td>\n",
       "      <td>0</td>\n",
       "      <td>NaN</td>\n",
       "      <td>998</td>\n",
       "      <td>VOTOS NO MARCADOS</td>\n",
       "      <td>1</td>\n",
       "    </tr>\n",
       "  </tbody>\n",
       "</table>\n",
       "<p>446257 rows × 14 columns</p>\n",
       "</div>"
      ],
      "text/plain": [
       "        COD_DEP DEPARTAMENTO  COD_MUN  MUNICIPIO  ZONA PUESTO  MESA  JAL  \\\n",
       "0             1    ANTIOQUIA        1   MEDELLIN     1      1     1    0   \n",
       "1             1    ANTIOQUIA        1   MEDELLIN     1      1     1    0   \n",
       "2             1    ANTIOQUIA        1   MEDELLIN     1      1     1    0   \n",
       "3             1    ANTIOQUIA        1   MEDELLIN     1      1     1    0   \n",
       "4             1    ANTIOQUIA        1   MEDELLIN     1      1     1    0   \n",
       "...         ...          ...      ...        ...   ...    ...   ...  ...   \n",
       "446252       88   CONSULADOS      815  VENEZUELA    75     86     1    0   \n",
       "446253       88   CONSULADOS      815  VENEZUELA    75     86     1    0   \n",
       "446254       88   CONSULADOS      815  VENEZUELA    75     86     1    0   \n",
       "446255       88   CONSULADOS      815  VENEZUELA    75     86     1    0   \n",
       "446256       88   CONSULADOS      815  VENEZUELA    75     86     1    0   \n",
       "\n",
       "        BOLETIN  COD_PARTIDO                                NOMBRE_PARTIDO  \\\n",
       "0          9999            1                               UNIDAD NACIONAL   \n",
       "1          9999            2  CENTRO DEMOCRÁTICO MANO FIRME CORAZÓN GRANDE   \n",
       "2          9999            0                                           NaN   \n",
       "3          9999            0                                           NaN   \n",
       "4          9999            0                                           NaN   \n",
       "...         ...          ...                                           ...   \n",
       "446252     9999            1                               UNIDAD NACIONAL   \n",
       "446253     9999            2  CENTRO DEMOCRÁTICO MANO FIRME CORAZÓN GRANDE   \n",
       "446254     9999            0                                           NaN   \n",
       "446255     9999            0                                           NaN   \n",
       "446256     9999            0                                           NaN   \n",
       "\n",
       "        COD_CANDIDATO             NOMBRE_CANDIDATO  VOTOS  \n",
       "0                   1  JUAN MANUEL SANTOS CALDERÓN     64  \n",
       "1                   2           ÓSCAR IVÁN ZULUAGA     79  \n",
       "2                 996              VOTOS EN BLANCO      4  \n",
       "3                 997                  VOTOS NULOS      3  \n",
       "4                 998            VOTOS NO MARCADOS      3  \n",
       "...               ...                          ...    ...  \n",
       "446252              1  JUAN MANUEL SANTOS CALDERÓN    181  \n",
       "446253              2           ÓSCAR IVÁN ZULUAGA    164  \n",
       "446254            996              VOTOS EN BLANCO      1  \n",
       "446255            997                  VOTOS NULOS      1  \n",
       "446256            998            VOTOS NO MARCADOS      1  \n",
       "\n",
       "[446257 rows x 14 columns]"
      ]
     },
     "execution_count": 33,
     "metadata": {},
     "output_type": "execute_result"
    }
   ],
   "source": [
    "Datos_02_2014"
   ]
  },
  {
   "cell_type": "markdown",
   "metadata": {},
   "source": [
    "**Data Quality**"
   ]
  },
  {
   "cell_type": "markdown",
   "metadata": {},
   "source": [
    "Los datos proporcionan la cantidad de votos registrados por ubicación geográfica y por partido político siendo de gran utilidad para el presente análisis pues se concentran el número de sufragantes afines a un partido político por región\n",
    "\n",
    "* Tipo :Se presentan datos en su mayoría númericos y cadenas de caracteres"
   ]
  },
  {
   "cell_type": "markdown",
   "metadata": {},
   "source": [
    "**Notas**"
   ]
  },
  {
   "cell_type": "markdown",
   "metadata": {},
   "source": [
    "* Es importante tener en cuenta el número de filas del archivo puesto que la lectura de estas requiere un tiempo considerable de procesamiento en Jupyter\n",
    "\n",
    "* Se toman en cuenta las bases de codigo abierto publicadas del año 2014 pues hasta la fecha no se tiene una data estructurada de los formatos E-24 Y E-26 del año 2018,periodo anterior."
   ]
  },
  {
   "cell_type": "code",
   "execution_count": null,
   "metadata": {},
   "outputs": [],
   "source": []
  }
 ],
 "metadata": {
  "kernelspec": {
   "display_name": "Python 3",
   "language": "python",
   "name": "python3"
  },
  "language_info": {
   "codemirror_mode": {
    "name": "ipython",
    "version": 3
   },
   "file_extension": ".py",
   "mimetype": "text/x-python",
   "name": "python",
   "nbconvert_exporter": "python",
   "pygments_lexer": "ipython3",
   "version": "3.8.5"
  }
 },
 "nbformat": 4,
 "nbformat_minor": 4
}
